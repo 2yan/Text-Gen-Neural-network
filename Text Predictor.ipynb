{
 "cells": [
  {
   "cell_type": "code",
   "execution_count": 1,
   "metadata": {},
   "outputs": [
    {
     "name": "stderr",
     "output_type": "stream",
     "text": [
      "Using TensorFlow backend.\n"
     ]
    }
   ],
   "source": [
    "import requests\n",
    "import numpy as np\n",
    "import pandas as pd\n",
    "import keras as kr\n"
   ]
  },
  {
   "cell_type": "code",
   "execution_count": 2,
   "metadata": {},
   "outputs": [],
   "source": [
    "def get_text():\n",
    "    r = requests.get('https://s3.amazonaws.com/text-datasets/nietzsche.txt')\n",
    "    text = r.text\n",
    "    return text\n",
    "\n",
    "text = get_text()"
   ]
  },
  {
   "cell_type": "code",
   "execution_count": null,
   "metadata": {
    "collapsed": true
   },
   "outputs": [],
   "source": []
  },
  {
   "cell_type": "code",
   "execution_count": 3,
   "metadata": {},
   "outputs": [],
   "source": [
    "def get_dictionaries(text):\n",
    "    unique = set(text)\n",
    "    id_char = dict(zip(range(0, len(unique)), unique))\n",
    "    char_id = dict(zip(id_char.values(), id_char.keys()))\n",
    "    return id_char, char_id\n",
    "\n",
    "id_char,char_id = get_dictionaries(text)"
   ]
  },
  {
   "cell_type": "code",
   "execution_count": 4,
   "metadata": {},
   "outputs": [],
   "source": [
    "def get_data(text, sentence_length = 100):\n",
    "    text_references = []\n",
    "    sentences = []\n",
    "    next_letters = []\n",
    "    i = 0\n",
    "    sentence = []\n",
    "    for char in text:\n",
    "        current = char_id[char]\n",
    "        #current = char\n",
    "        text_references.append(current)\n",
    "        if i > sentence_length:\n",
    "            sentences.append(sentence)\n",
    "            sentence = []\n",
    "            i = 0\n",
    "        if i < sentence_length:\n",
    "            sentence.append(current)\n",
    "        if i == sentence_length:\n",
    "            next_letters.append(current)\n",
    "        i = i + 1\n",
    "    return sentences, next_letters\n",
    "\n",
    "sentences, next_letters = get_data(text,100 )\n"
   ]
  },
  {
   "cell_type": "code",
   "execution_count": 5,
   "metadata": {},
   "outputs": [],
   "source": [
    "def print_sentence(sentence):\n",
    "    if type(sentence) == int:\n",
    "        return id_char[sentence]\n",
    "    final = ''\n",
    "    for thing in sentence:\n",
    "        if type(thing) == int:\n",
    "            final = final + str(id_char[thing])\n",
    "        if type(thing) == str:\n",
    "            return ''.join(sentence)\n",
    "    return final\n",
    "\n",
    "def one_hot_encode(sentences,next_letters, id_char ):\n",
    "    X = np.zeros((len(sentences), len(sentences[0]), len(id_char)), dtype= np.bool)\n",
    "    y = np.zeros((len(sentences), len(sentences[0])), dtype= np.bool)\n",
    "    for sentence_index, sentence in enumerate(sentences):\n",
    "        for char_index, char in enumerate(sentence):\n",
    "            X[sentence_index, char_index, char ] = 1\n",
    "        y[sentence_index, next_letters[sentence_index] ] = 1\n",
    "    return X, y\n",
    "        \n",
    "def one_hot_to_text(onehot):\n",
    "    result = list(onehot).index(max(onehot))\n",
    "    return id_char[result]\n",
    "\n",
    "X, y = one_hot_encode(sentences,next_letters, id_char)"
   ]
  },
  {
   "cell_type": "code",
   "execution_count": 22,
   "metadata": {},
   "outputs": [
    {
     "name": "stdout",
     "output_type": "stream",
     "text": [
      "Epoch 1/1\n",
      "5949/5949 [==============================] - 23s - loss: 3.2482    \n"
     ]
    }
   ],
   "source": [
    "def generate_model(X, y):\n",
    "    model = kr.models.Sequential()\n",
    "    model.add(kr.layers.LSTM(128, input_shape=X.shape[1:]))\n",
    "    model.add(kr.layers.Dense(X.shape[1]))\n",
    "    model.add(kr.layers.Activation('softmax'))\n",
    "    optimizer = kr.optimizers.RMSprop(lr=0.01)\n",
    "    model.compile(loss='categorical_crossentropy', optimizer=optimizer)\n",
    "    return model\n",
    "\n",
    "model = generate_model(X,y)\n",
    "model.fit(X, y,batch_size=128,epochs=1, verbose=1)"
   ]
  },
  {
   "cell_type": "code",
   "execution_count": null,
   "metadata": {
    "collapsed": true
   },
   "outputs": [],
   "source": [
    "def predict(seed_text, characters):\n",
    "    for num in range(0, )"
   ]
  },
  {
   "cell_type": "code",
   "execution_count": null,
   "metadata": {
    "collapsed": true
   },
   "outputs": [],
   "source": [
    "model.fit(X, y,batch_size=128,epochs=20, verbose=1)"
   ]
  },
  {
   "cell_type": "code",
   "execution_count": 38,
   "metadata": {
    "scrolled": false
   },
   "outputs": [],
   "source": [
    "result = model.predict(X[30:31])"
   ]
  },
  {
   "cell_type": "code",
   "execution_count": 42,
   "metadata": {},
   "outputs": [
    {
     "data": {
      "text/plain": [
       "'i'"
      ]
     },
     "execution_count": 42,
     "metadata": {},
     "output_type": "execute_result"
    }
   ],
   "source": [
    "one_hot_to_text(result[0])"
   ]
  }
 ],
 "metadata": {
  "kernelspec": {
   "display_name": "Python 3",
   "language": "python",
   "name": "python3"
  },
  "language_info": {
   "codemirror_mode": {
    "name": "ipython",
    "version": 3
   },
   "file_extension": ".py",
   "mimetype": "text/x-python",
   "name": "python",
   "nbconvert_exporter": "python",
   "pygments_lexer": "ipython3",
   "version": "3.6.3"
  }
 },
 "nbformat": 4,
 "nbformat_minor": 2
}
